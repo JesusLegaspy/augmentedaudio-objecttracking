{
 "cells": [
  {
   "cell_type": "code",
   "execution_count": 11,
   "metadata": {},
   "outputs": [
    {
     "name": "stdout",
     "output_type": "stream",
     "text": [
      "[[[ 0.    0.    0.    0.    0.  ]\n",
      "  [ 1.25  1.25  1.25  1.25  1.25]\n",
      "  [ 2.5   2.5   2.5   2.5   2.5 ]\n",
      "  [ 3.75  3.75  3.75  3.75  3.75]\n",
      "  [ 5.    5.    5.    5.    5.  ]]\n",
      "\n",
      " [[ 0.    1.25  2.5   3.75  5.  ]\n",
      "  [ 0.    1.25  2.5   3.75  5.  ]\n",
      "  [ 0.    1.25  2.5   3.75  5.  ]\n",
      "  [ 0.    1.25  2.5   3.75  5.  ]\n",
      "  [ 0.    1.25  2.5   3.75  5.  ]]]\n"
     ]
    }
   ],
   "source": [
    "print(np.mgrid[0:5:5j,0:5:5j])"
   ]
  },
  {
   "cell_type": "code",
   "execution_count": null,
   "metadata": {
    "collapsed": true
   },
   "outputs": [],
   "source": []
  }
 ],
 "metadata": {
  "kernelspec": {
   "display_name": "Python 3",
   "language": "python",
   "name": "python3"
  },
  "language_info": {
   "codemirror_mode": {
    "name": "ipython",
    "version": 3
   },
   "file_extension": ".py",
   "mimetype": "text/x-python",
   "name": "python",
   "nbconvert_exporter": "python",
   "pygments_lexer": "ipython3",
   "version": "3.6.2"
  }
 },
 "nbformat": 4,
 "nbformat_minor": 2
}
